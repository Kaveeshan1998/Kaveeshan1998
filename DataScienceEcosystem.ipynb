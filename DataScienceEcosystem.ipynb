{
 "cells": [
  {
   "cell_type": "markdown",
   "id": "43933033-c305-4876-928a-99caa13cc0e1",
   "metadata": {},
   "source": [
    "# Data Science Tools and Ecosystem"
   ]
  },
  {
   "cell_type": "markdown",
   "id": "ab5007bc-1bd2-4380-8c0f-62d859cac636",
   "metadata": {},
   "source": [
    "# In this notebook, Data Science Tools and Ecosystem are summarized."
   ]
  },
  {
   "cell_type": "markdown",
   "id": "991dcdde-245e-4ef2-8f5a-95108f60bcef",
   "metadata": {},
   "source": [
    "**Objectives:**\n",
    "\n",
    "- Add comments to code cells \n",
    "- Create Markdown cells\n",
    "- Add ordered and ubordered lists to markdown cells\n",
    "- Format content of markdown cells with heading styles\n",
    "G Julia"
   ]
  },
  {
   "cell_type": "markdown",
   "id": "acb6cc0e-9dab-4535-b00d-124b50370aa9",
   "metadata": {},
   "source": [
    "Some of the popular languages that Data Scientists use are:\n",
    "1. Python\n",
    "2. Java\n",
    "3. C++\n",
    "4. C"
   ]
  },
  {
   "cell_type": "markdown",
   "id": "f6293cdc-4919-4a26-ae48-96f8fc6f053c",
   "metadata": {},
   "source": [
    "Some of the commonly used libraries used by Data Scientists include:\n",
    "\n",
    "- NumPy\n",
    "- Pandas\n",
    "- Matplotlib\n",
    "- TensorFlow\n"
   ]
  },
  {
   "cell_type": "markdown",
   "id": "e83db1ee-ddb1-4cfc-b41f-e24ac89297a7",
   "metadata": {},
   "source": [
    "| Data Science Tools |\n",
    "| ----------- |\n",
    "| Jupyter Notebook | \n",
    "| Spyder |\n",
    "| Visual Studio Code |  "
   ]
  },
  {
   "cell_type": "markdown",
   "id": "22f997a3-8037-412a-815d-7b1cc8245043",
   "metadata": {},
   "source": [
    "### Below are a few examples of evaluating arithmetic expressions in Python"
   ]
  },
  {
   "cell_type": "code",
   "execution_count": 7,
   "id": "4e6dc4e6-ebae-49be-a293-e78ab8a2e60c",
   "metadata": {},
   "outputs": [
    {
     "data": {
      "text/plain": [
       "17"
      ]
     },
     "execution_count": 7,
     "metadata": {},
     "output_type": "execute_result"
    }
   ],
   "source": [
    "# In this a simple arithmetic expression to mutiply then add integers\n",
    "(3*4)+5"
   ]
  },
  {
   "cell_type": "code",
   "execution_count": 10,
   "id": "41e3e7d4-bf38-4452-a84a-9a5a913ce076",
   "metadata": {},
   "outputs": [
    {
     "data": {
      "text/plain": [
       "3.3333333333333335"
      ]
     },
     "execution_count": 10,
     "metadata": {},
     "output_type": "execute_result"
    }
   ],
   "source": [
    "# This will convert 200 minutes to hours by diving by 60\n",
    "200/60 "
   ]
  },
  {
   "cell_type": "markdown",
   "id": "715b955a-02a1-438b-85eb-0d94bc170fda",
   "metadata": {},
   "source": [
    "## Author\n",
    "P.Kaveeshan"
   ]
  }
 ],
 "metadata": {
  "kernelspec": {
   "display_name": "Python 3 (ipykernel)",
   "language": "python",
   "name": "python3"
  },
  "language_info": {
   "codemirror_mode": {
    "name": "ipython",
    "version": 3
   },
   "file_extension": ".py",
   "mimetype": "text/x-python",
   "name": "python",
   "nbconvert_exporter": "python",
   "pygments_lexer": "ipython3",
   "version": "3.11.7"
  }
 },
 "nbformat": 4,
 "nbformat_minor": 5
}
